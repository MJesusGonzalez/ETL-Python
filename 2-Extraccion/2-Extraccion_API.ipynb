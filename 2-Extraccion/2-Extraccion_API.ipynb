{
 "cells": [
  {
   "cell_type": "markdown",
   "id": "c344f2a0",
   "metadata": {},
   "source": [
    "# Extracción de datos desde APIs"
   ]
  },
  {
   "cell_type": "markdown",
   "id": "138aa8c3",
   "metadata": {},
   "source": [
    "## Conceptos básicos de APIs REST y consumo de APIs en Python"
   ]
  },
  {
   "cell_type": "markdown",
   "id": "e2900d81",
   "metadata": {},
   "source": [
    "### ¿Qué son las API?\n",
    "\n",
    "- Son un conjuntos de reglas y protocolos que permiten a diferentes aplicaciones comunicarse entre sí. \n",
    "- Se utilizan para acceder a datos de servicios web, aplicaciones en la nube, redes sociales, entre otros. \n",
    "- Proporcionan una forma estructurada y segura de obtener datos de sistemas externos."
   ]
  },
  {
   "cell_type": "markdown",
   "id": "c6db9b0d",
   "metadata": {},
   "source": [
    "### ![API](../Images/API.png)"
   ]
  },
  {
   "cell_type": "markdown",
   "id": "bb5b185f",
   "metadata": {},
   "source": [
    "### Extracción de datos JSON desde APIs públicas y privadas"
   ]
  },
  {
   "cell_type": "markdown",
   "id": "978b1bf2",
   "metadata": {},
   "source": [
    "### ![API_Spotify](../Images/API_Spotify.png)"
   ]
  },
  {
   "cell_type": "markdown",
   "id": "fb4c5865",
   "metadata": {},
   "source": [
    "# Librerias"
   ]
  },
  {
   "cell_type": "code",
   "execution_count": null,
   "id": "2d21eb9c",
   "metadata": {},
   "outputs": [],
   "source": [
    "import pandas as pd\n",
    "import json\n",
    "import requests\n",
    "import os\n",
    "from io import StringIO"
   ]
  },
  {
   "cell_type": "markdown",
   "id": "f4d83a09",
   "metadata": {},
   "source": [
    "# Credenciales"
   ]
  },
  {
   "cell_type": "code",
   "execution_count": null,
   "id": "89a77d3b",
   "metadata": {},
   "outputs": [],
   "source": [
    "path = os.getcwd()\n",
    "path_credentials = os.path.join(path, 'secrets', 'credentials.json')\n",
    "with open(path_credentials) as file:\n",
    "    credentials = json.load(file)\n",
    "    client_id = credentials['client_id']\n",
    "    client_secret = credentials['client_secret']\n",
    "    X_api_key = credentials['X_api_key']"
   ]
  },
  {
   "cell_type": "markdown",
   "id": "eacf89f8",
   "metadata": {},
   "source": [
    "# Spotify"
   ]
  },
  {
   "cell_type": "code",
   "execution_count": null,
   "id": "47dd2378",
   "metadata": {},
   "outputs": [],
   "source": [
    "data_spotify = {\n",
    "    'grant_type': 'client_credentials',\n",
    "    'client_id': client_id,\n",
    "    'client_secret': client_secret\n",
    "}\n",
    "\n",
    "token_url = 'https://accounts.spotify.com/api/token'\n",
    "response = requests.post(token_url, data=data_spotify)\n",
    "\n",
    "if response.status_code == 200:\n",
    "    access_token = response.json()['access_token']\n",
    "else :\n",
    "    raise Exception(f\"Failed to get access token: {response.status_code} {response.text}\")"
   ]
  },
  {
   "cell_type": "code",
   "execution_count": null,
   "id": "4b3a8230",
   "metadata": {},
   "outputs": [],
   "source": [
    "# id_track = '0bUTHlWbkSQysoM3VsWldT' # Album\n",
    "id_track = '0dcMqjeDpwqB2xhzMsld0p' # Track\n",
    "track_url = f'https://api.spotify.com/v1/tracks/{id_track}'\n",
    "headers = { 'Authorization': f'Bearer {access_token}' }\n",
    "response = requests.get(track_url, headers=headers)\n",
    "response.json()"
   ]
  },
  {
   "cell_type": "markdown",
   "id": "d617d6c7",
   "metadata": {},
   "source": [
    "# Mackaroo"
   ]
  },
  {
   "cell_type": "markdown",
   "id": "0f2c2955",
   "metadata": {},
   "source": [
    "Consumo de la API de [mockaroo](https://www.mockaroo.com/), que es una herramienta que permite generar datos de prueba en diferentes formatos, como JSON, CSV, SQL y Excel."
   ]
  },
  {
   "cell_type": "code",
   "execution_count": null,
   "id": "6aac4f5c",
   "metadata": {},
   "outputs": [],
   "source": [
    "data_mackaroo = {\n",
    "    'X-Api-Key': X_api_key,\n",
    "}\n",
    "headers = {'X-Api-Key': client_id}\n",
    "\n",
    "token_url_mackaroo = 'https://my.api.mockaroo.com/mkt_data_cf.json'\n",
    "response = requests.get(token_url_mackaroo, headers=data_mackaroo)\n",
    "\n",
    "if response.status_code == 200:\n",
    "    print(response.json())\n",
    "else :\n",
    "    raise Exception(f\"Failed to get access token: {response.status_code} {response.text}\")"
   ]
  },
  {
   "cell_type": "code",
   "execution_count": null,
   "id": "899c6ee2",
   "metadata": {},
   "outputs": [],
   "source": [
    "pd.read_json(StringIO(response.text))"
   ]
  },
  {
   "cell_type": "markdown",
   "id": "1de7a224",
   "metadata": {},
   "source": [
    "# Ejemplos JSON no estructurados"
   ]
  },
  {
   "cell_type": "code",
   "execution_count": 27,
   "id": "f2b52650",
   "metadata": {},
   "outputs": [],
   "source": [
    "path_data = os.path.join(os.getcwd(), 'data')\n",
    "\n",
    "ejemplo1 = os.path.join(path_data, 'ejemplo1.json')\n",
    "ejemplo2 = os.path.join(path_data, 'ejemplo2.json')\n",
    "ejemplo3 = os.path.join(path_data, 'ejemplo3.json')"
   ]
  },
  {
   "cell_type": "code",
   "execution_count": 11,
   "id": "dbeed860",
   "metadata": {},
   "outputs": [
    {
     "data": {
      "text/html": [
       "<div>\n",
       "<style scoped>\n",
       "    .dataframe tbody tr th:only-of-type {\n",
       "        vertical-align: middle;\n",
       "    }\n",
       "\n",
       "    .dataframe tbody tr th {\n",
       "        vertical-align: top;\n",
       "    }\n",
       "\n",
       "    .dataframe thead th {\n",
       "        text-align: right;\n",
       "    }\n",
       "</style>\n",
       "<table border=\"1\" class=\"dataframe\">\n",
       "  <thead>\n",
       "    <tr style=\"text-align: right;\">\n",
       "      <th></th>\n",
       "      <th>nombre</th>\n",
       "      <th>productos</th>\n",
       "    </tr>\n",
       "  </thead>\n",
       "  <tbody>\n",
       "    <tr>\n",
       "      <th>0</th>\n",
       "      <td>Tienda de Electrónica</td>\n",
       "      <td>{'nombre_prod': 'Laptop', 'precio': 800, 'marc...</td>\n",
       "    </tr>\n",
       "    <tr>\n",
       "      <th>1</th>\n",
       "      <td>Tienda de Electrónica</td>\n",
       "      <td>{'nombre_prod': 'Teléfono', 'precio': 500, 'ma...</td>\n",
       "    </tr>\n",
       "  </tbody>\n",
       "</table>\n",
       "</div>"
      ],
      "text/plain": [
       "                  nombre                                          productos\n",
       "0  Tienda de Electrónica  {'nombre_prod': 'Laptop', 'precio': 800, 'marc...\n",
       "1  Tienda de Electrónica  {'nombre_prod': 'Teléfono', 'precio': 500, 'ma..."
      ]
     },
     "execution_count": 11,
     "metadata": {},
     "output_type": "execute_result"
    }
   ],
   "source": [
    "pd.read_json(ejemplo1)"
   ]
  },
  {
   "cell_type": "markdown",
   "id": "01d1f1c7",
   "metadata": {},
   "source": [
    "## json_normalize"
   ]
  },
  {
   "cell_type": "markdown",
   "id": "544bae61",
   "metadata": {},
   "source": [
    "**¿Qué hace `pd.json_normalize`?**\n",
    "\n",
    "En esencia, esta función de Pandas toma datos JSON potencialmente complejos y anidados, y los transforma en un DataFrame plano y estructurado, que es mucho más fácil de manipular y analizar.\n",
    "\n",
    "**Desglose de los parámetros:**\n",
    "\n",
    "* `data`: Este es el JSON que contiene tus datos.\n",
    "\n",
    "* `record_path='productos'`: Aquí le estás diciendo a Pandas: \"Dentro de mi diccionario `data`, busca una lista llamada 'productos'. Cada elemento dentro de esa lista representa una fila en mi DataFrame final\".\n",
    "\n",
    "* `meta=['nombre']`:  Con esto indicas: \"Además de los datos dentro de 'productos', quiero incluir una columna adicional llamada 'nombre' en mi DataFrame. El valor de esta columna será el valor asociado a la clave 'nombre' en el nivel superior de mi diccionario `data`\".  En nuestro ejemplo, esto significa que cada fila tendrá el nombre de la tienda (\"Tienda de Electrónica\") junto con los detalles del producto.\n"
   ]
  },
  {
   "cell_type": "markdown",
   "id": "fbc1025b",
   "metadata": {},
   "source": [
    "### Ejemplo 1 - JSON con un campo anidado"
   ]
  },
  {
   "cell_type": "code",
   "execution_count": 22,
   "id": "d444371e",
   "metadata": {},
   "outputs": [
    {
     "data": {
      "text/html": [
       "<div>\n",
       "<style scoped>\n",
       "    .dataframe tbody tr th:only-of-type {\n",
       "        vertical-align: middle;\n",
       "    }\n",
       "\n",
       "    .dataframe tbody tr th {\n",
       "        vertical-align: top;\n",
       "    }\n",
       "\n",
       "    .dataframe thead th {\n",
       "        text-align: right;\n",
       "    }\n",
       "</style>\n",
       "<table border=\"1\" class=\"dataframe\">\n",
       "  <thead>\n",
       "    <tr style=\"text-align: right;\">\n",
       "      <th></th>\n",
       "      <th>nombre_prod</th>\n",
       "      <th>precio</th>\n",
       "      <th>marca</th>\n",
       "      <th>nombre</th>\n",
       "    </tr>\n",
       "  </thead>\n",
       "  <tbody>\n",
       "    <tr>\n",
       "      <th>0</th>\n",
       "      <td>Laptop</td>\n",
       "      <td>800</td>\n",
       "      <td>Marca A</td>\n",
       "      <td>Tienda de ElectrÃ³nica</td>\n",
       "    </tr>\n",
       "    <tr>\n",
       "      <th>1</th>\n",
       "      <td>TelÃ©fono</td>\n",
       "      <td>500</td>\n",
       "      <td>Marca B</td>\n",
       "      <td>Tienda de ElectrÃ³nica</td>\n",
       "    </tr>\n",
       "  </tbody>\n",
       "</table>\n",
       "</div>"
      ],
      "text/plain": [
       "  nombre_prod  precio    marca                  nombre\n",
       "0      Laptop     800  Marca A  Tienda de ElectrÃ³nica\n",
       "1   TelÃ©fono     500  Marca B  Tienda de ElectrÃ³nica"
      ]
     },
     "execution_count": 22,
     "metadata": {},
     "output_type": "execute_result"
    }
   ],
   "source": [
    "data = json.load(open(ejemplo1))\n",
    "pd.json_normalize(\n",
    "    data \n",
    "    , record_path=['productos'] \n",
    "    , meta=['nombre']\n",
    ")"
   ]
  },
  {
   "cell_type": "markdown",
   "id": "7251762a",
   "metadata": {},
   "source": [
    "### Ejemplo 2 - JSON con 2 campos anidados"
   ]
  },
  {
   "cell_type": "code",
   "execution_count": null,
   "id": "928d466a",
   "metadata": {},
   "outputs": [
    {
     "data": {
      "text/html": [
       "<div>\n",
       "<style scoped>\n",
       "    .dataframe tbody tr th:only-of-type {\n",
       "        vertical-align: middle;\n",
       "    }\n",
       "\n",
       "    .dataframe tbody tr th {\n",
       "        vertical-align: top;\n",
       "    }\n",
       "\n",
       "    .dataframe thead th {\n",
       "        text-align: right;\n",
       "    }\n",
       "</style>\n",
       "<table border=\"1\" class=\"dataframe\">\n",
       "  <thead>\n",
       "    <tr style=\"text-align: right;\">\n",
       "      <th></th>\n",
       "      <th>calle</th>\n",
       "      <th>ciudad</th>\n",
       "      <th>id</th>\n",
       "      <th>nombre</th>\n",
       "      <th>edad</th>\n",
       "    </tr>\n",
       "  </thead>\n",
       "  <tbody>\n",
       "    <tr>\n",
       "      <th>0</th>\n",
       "      <td>Calle Principal 123</td>\n",
       "      <td>Ciudad A</td>\n",
       "      <td>1</td>\n",
       "      <td>Juan</td>\n",
       "      <td>30</td>\n",
       "    </tr>\n",
       "    <tr>\n",
       "      <th>1</th>\n",
       "      <td>Avenida Secundaria 456</td>\n",
       "      <td>Ciudad B</td>\n",
       "      <td>2</td>\n",
       "      <td>Juan</td>\n",
       "      <td>30</td>\n",
       "    </tr>\n",
       "  </tbody>\n",
       "</table>\n",
       "</div>"
      ],
      "text/plain": [
       "                    calle    ciudad  id nombre edad\n",
       "0     Calle Principal 123  Ciudad A   1   Juan   30\n",
       "1  Avenida Secundaria 456  Ciudad B   2   Juan   30"
      ]
     },
     "execution_count": 23,
     "metadata": {},
     "output_type": "execute_result"
    }
   ],
   "source": [
    "data2 = json.load(open(ejemplo2))\n",
    "pd.json_normalize(\n",
    "    data2['usuario']\n",
    "    , record_path=['direcciones']\n",
    "    , meta=['nombre', 'edad']\n",
    ")"
   ]
  },
  {
   "cell_type": "code",
   "execution_count": 24,
   "id": "356c4a78",
   "metadata": {},
   "outputs": [
    {
     "data": {
      "text/html": [
       "<div>\n",
       "<style scoped>\n",
       "    .dataframe tbody tr th:only-of-type {\n",
       "        vertical-align: middle;\n",
       "    }\n",
       "\n",
       "    .dataframe tbody tr th {\n",
       "        vertical-align: top;\n",
       "    }\n",
       "\n",
       "    .dataframe thead th {\n",
       "        text-align: right;\n",
       "    }\n",
       "</style>\n",
       "<table border=\"1\" class=\"dataframe\">\n",
       "  <thead>\n",
       "    <tr style=\"text-align: right;\">\n",
       "      <th></th>\n",
       "      <th>producto</th>\n",
       "      <th>precio</th>\n",
       "      <th>fecha</th>\n",
       "      <th>id</th>\n",
       "      <th>nombre</th>\n",
       "      <th>edad</th>\n",
       "    </tr>\n",
       "  </thead>\n",
       "  <tbody>\n",
       "    <tr>\n",
       "      <th>0</th>\n",
       "      <td>Libro</td>\n",
       "      <td>20</td>\n",
       "      <td>2020-01-01</td>\n",
       "      <td>1</td>\n",
       "      <td>Juan</td>\n",
       "      <td>30</td>\n",
       "    </tr>\n",
       "    <tr>\n",
       "      <th>1</th>\n",
       "      <td>PelÃ­cula</td>\n",
       "      <td>15</td>\n",
       "      <td>2020-01-02</td>\n",
       "      <td>2</td>\n",
       "      <td>Juan</td>\n",
       "      <td>30</td>\n",
       "    </tr>\n",
       "  </tbody>\n",
       "</table>\n",
       "</div>"
      ],
      "text/plain": [
       "    producto  precio       fecha  id nombre edad\n",
       "0      Libro      20  2020-01-01   1   Juan   30\n",
       "1  PelÃ­cula      15  2020-01-02   2   Juan   30"
      ]
     },
     "execution_count": 24,
     "metadata": {},
     "output_type": "execute_result"
    }
   ],
   "source": [
    "pd.json_normalize(\n",
    "    data2['usuario']\n",
    "    , record_path=['compras']\n",
    "    , meta=['nombre', 'edad']\n",
    ")"
   ]
  },
  {
   "cell_type": "markdown",
   "id": "e104f39c",
   "metadata": {},
   "source": [
    "### Ejemplo 3 - JSON con campos anidados en otros campos anidados"
   ]
  },
  {
   "cell_type": "code",
   "execution_count": 35,
   "id": "54af7757",
   "metadata": {},
   "outputs": [
    {
     "data": {
      "text/html": [
       "<div>\n",
       "<style scoped>\n",
       "    .dataframe tbody tr th:only-of-type {\n",
       "        vertical-align: middle;\n",
       "    }\n",
       "\n",
       "    .dataframe tbody tr th {\n",
       "        vertical-align: top;\n",
       "    }\n",
       "\n",
       "    .dataframe thead th {\n",
       "        text-align: right;\n",
       "    }\n",
       "</style>\n",
       "<table border=\"1\" class=\"dataframe\">\n",
       "  <thead>\n",
       "    <tr style=\"text-align: right;\">\n",
       "      <th></th>\n",
       "      <th>nombre</th>\n",
       "      <th>edad</th>\n",
       "      <th>grado_nombre</th>\n",
       "    </tr>\n",
       "  </thead>\n",
       "  <tbody>\n",
       "    <tr>\n",
       "      <th>0</th>\n",
       "      <td>Ana</td>\n",
       "      <td>6</td>\n",
       "      <td>Primer Grado</td>\n",
       "    </tr>\n",
       "    <tr>\n",
       "      <th>1</th>\n",
       "      <td>Pedro</td>\n",
       "      <td>7</td>\n",
       "      <td>Primer Grado</td>\n",
       "    </tr>\n",
       "    <tr>\n",
       "      <th>2</th>\n",
       "      <td>MarÃ­a</td>\n",
       "      <td>7</td>\n",
       "      <td>Segundo Grado</td>\n",
       "    </tr>\n",
       "    <tr>\n",
       "      <th>3</th>\n",
       "      <td>Luis</td>\n",
       "      <td>8</td>\n",
       "      <td>Segundo Grado</td>\n",
       "    </tr>\n",
       "  </tbody>\n",
       "</table>\n",
       "</div>"
      ],
      "text/plain": [
       "   nombre  edad   grado_nombre\n",
       "0     Ana     6   Primer Grado\n",
       "1   Pedro     7   Primer Grado\n",
       "2  MarÃ­a     7  Segundo Grado\n",
       "3    Luis     8  Segundo Grado"
      ]
     },
     "execution_count": 35,
     "metadata": {},
     "output_type": "execute_result"
    }
   ],
   "source": [
    "data3 = json.load(open(ejemplo3))\n",
    "pd.json_normalize(\n",
    "    data3['escuela']['grados']\n",
    "    , record_path=['alumnos']\n",
    "    , meta=['nombre']\n",
    "    , meta_prefix='grado_'\n",
    ")"
   ]
  }
 ],
 "metadata": {
  "kernelspec": {
   "display_name": ".venv",
   "language": "python",
   "name": "python3"
  },
  "language_info": {
   "codemirror_mode": {
    "name": "ipython",
    "version": 3
   },
   "file_extension": ".py",
   "mimetype": "text/x-python",
   "name": "python",
   "nbconvert_exporter": "python",
   "pygments_lexer": "ipython3",
   "version": "3.13.3"
  }
 },
 "nbformat": 4,
 "nbformat_minor": 5
}
