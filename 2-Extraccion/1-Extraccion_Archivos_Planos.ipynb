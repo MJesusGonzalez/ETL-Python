{
 "cells": [
  {
   "cell_type": "markdown",
   "id": "7886ea5b",
   "metadata": {},
   "source": [
    "# Extraccion de datos desde archivos"
   ]
  },
  {
   "cell_type": "markdown",
   "id": "b06cf1f3",
   "metadata": {},
   "source": [
    "## Librerias"
   ]
  },
  {
   "cell_type": "code",
   "execution_count": null,
   "id": "0493be59",
   "metadata": {},
   "outputs": [],
   "source": [
    "import pandas as pd\n",
    "import polars as pl\n",
    "import openpyxl\n",
    "import os"
   ]
  },
  {
   "cell_type": "markdown",
   "id": "8a74ef0f",
   "metadata": {},
   "source": [
    "## Funciones"
   ]
  },
  {
   "cell_type": "code",
   "execution_count": null,
   "id": "1608a633",
   "metadata": {},
   "outputs": [],
   "source": [
    "path_data = os.path.join(os.getcwd(), \"data\")\n",
    "path_file = lambda file: os.path.join(path_data, file)\n",
    "def read_csv(file):\n",
    "    return pd.read_csv(path_file(file))"
   ]
  },
  {
   "cell_type": "markdown",
   "id": "8e0c9a40",
   "metadata": {},
   "source": [
    "# Pandas"
   ]
  },
  {
   "cell_type": "markdown",
   "id": "322c3c16",
   "metadata": {},
   "source": [
    "## CSV"
   ]
  },
  {
   "cell_type": "code",
   "execution_count": null,
   "id": "6980e7a0",
   "metadata": {},
   "outputs": [],
   "source": [
    "pd.read_csv(\n",
    "    filepath_or_buffer=path_file(\"dataset.csv\")\n",
    "    ).head()"
   ]
  },
  {
   "cell_type": "markdown",
   "id": "65c92ffc",
   "metadata": {},
   "source": [
    "## TXT"
   ]
  },
  {
   "cell_type": "code",
   "execution_count": null,
   "id": "d3012697",
   "metadata": {},
   "outputs": [],
   "source": [
    "pd.read_csv(\n",
    "    filepath_or_buffer=path_file(\"dataset.txt\")\n",
    "    , delimiter=\"\\t\"\n",
    "    ).head()"
   ]
  },
  {
   "cell_type": "markdown",
   "id": "906dba4b",
   "metadata": {},
   "source": [
    "## Excel"
   ]
  },
  {
   "cell_type": "code",
   "execution_count": null,
   "id": "4edc43d6",
   "metadata": {},
   "outputs": [],
   "source": [
    "pd.read_excel(\n",
    "    io=path_file(\"dataset_tipo2.xlsx\"),\n",
    "    sheet_name=\"data\"\n",
    "    ).head()"
   ]
  },
  {
   "cell_type": "code",
   "execution_count": null,
   "id": "f404477b",
   "metadata": {},
   "outputs": [],
   "source": [
    "# Excel con la informacion en multiples hojas estandarizadas\n",
    "df_xlsx = pd.ExcelFile(\n",
    "    path_file(\"datos_historicos.xlsx\")\n",
    "    )\n",
    "\n",
    "pd.concat(\n",
    "    [pd.read_excel(df_xlsx, sheet_name=sheet) for sheet in df_xlsx.sheet_names]\n",
    "    ).head()"
   ]
  },
  {
   "cell_type": "code",
   "execution_count": null,
   "id": "e26b264b",
   "metadata": {},
   "outputs": [],
   "source": [
    "# Excel con el contenido en otras rows\n",
    "pd.read_excel(\n",
    "    io=path_file(\"data.xlsx\")\n",
    "    , skiprows=3\n",
    "    ).head(10)"
   ]
  },
  {
   "cell_type": "markdown",
   "id": "c0cfdbad",
   "metadata": {},
   "source": [
    "# Polar"
   ]
  },
  {
   "cell_type": "markdown",
   "id": "feae0f57",
   "metadata": {},
   "source": [
    "## CSV"
   ]
  },
  {
   "cell_type": "code",
   "execution_count": null,
   "id": "10f3e959",
   "metadata": {},
   "outputs": [],
   "source": [
    "pl.read_csv(\n",
    "    path_file(\"dataset.csv\")\n",
    "    ).head()"
   ]
  },
  {
   "cell_type": "code",
   "execution_count": null,
   "id": "467e5115",
   "metadata": {},
   "outputs": [],
   "source": [
    "# Lectura de varios csv\n",
    "pl.read_csv(\n",
    "    path_file(\"datos_historicos/*.csv\")\n",
    "    ).head()"
   ]
  },
  {
   "cell_type": "markdown",
   "id": "f89e37b1",
   "metadata": {},
   "source": [
    "## TXT"
   ]
  },
  {
   "cell_type": "code",
   "execution_count": null,
   "id": "7889565d",
   "metadata": {},
   "outputs": [],
   "source": [
    "pl.read_csv(\n",
    "    path_file(\"dataset.txt\")\n",
    "    , separator=\"\\t\"\n",
    "    ).head()"
   ]
  },
  {
   "cell_type": "markdown",
   "id": "61845230",
   "metadata": {},
   "source": [
    "## Excel"
   ]
  },
  {
   "cell_type": "code",
   "execution_count": null,
   "id": "7a1bff38",
   "metadata": {},
   "outputs": [],
   "source": [
    "pl.read_excel(\n",
    "    path_file(\"data.xlsx\")\n",
    "    , engine=\"xlsx2csv\"\n",
    "    , read_options={\"skip_rows\": 3}\n",
    "    ).head()"
   ]
  },
  {
   "cell_type": "code",
   "execution_count": null,
   "id": "a0c53459",
   "metadata": {},
   "outputs": [],
   "source": [
    "# Excel con la informacion en multiples hojas estandarizadas\n",
    "wb = openpyxl.load_workbook(\n",
    "    path_file(\"datos_historicos.xlsx\")\n",
    "    )\n",
    "wb_sheets = wb.sheetnames"
   ]
  },
  {
   "cell_type": "code",
   "execution_count": null,
   "id": "5400666a",
   "metadata": {},
   "outputs": [],
   "source": [
    "# forma 1\n",
    "pl.concat(\n",
    "    [pl.read_excel(\n",
    "        path_file(\"datos_historicos.xlsx\")\n",
    "        , sheet_name=sheet\n",
    "        ) for sheet in wb_sheets]\n",
    "    )"
   ]
  },
  {
   "cell_type": "code",
   "execution_count": null,
   "id": "9b341515",
   "metadata": {},
   "outputs": [],
   "source": [
    "# forma 2\n",
    "pl.concat(\n",
    "    pl.read_excel(\n",
    "        path_file(\"datos_historicos.xlsx\")\n",
    "        , sheet_name=wb_sheets\n",
    "        ).values()\n",
    "    )"
   ]
  },
  {
   "cell_type": "markdown",
   "id": "e9967e7f",
   "metadata": {},
   "source": [
    "## PL Schemas\n",
    "https://docs.pola.rs/api/python/stable/reference/datatypes.html"
   ]
  },
  {
   "cell_type": "code",
   "execution_count": null,
   "id": "489736ea",
   "metadata": {},
   "outputs": [],
   "source": [
    "pl.read_excel(\n",
    "    path_file(\"data.xlsx\")\n",
    "    , engine=\"xlsx2csv\"\n",
    "    , read_options={\"skip_rows\": 3, 'ignore_errors': True}\n",
    "    , schema_overrides={\n",
    "        **{\"in million USD\": pl.String, \"FY '09\": pl.Float64}\n",
    "        , **{f\"FY '{year}\": pl.Float64 for year in range(10, 19)}\n",
    "    }\n",
    "    ).head()"
   ]
  }
 ],
 "metadata": {
  "kernelspec": {
   "display_name": ".venv",
   "language": "python",
   "name": "python3"
  },
  "language_info": {
   "codemirror_mode": {
    "name": "ipython",
    "version": 3
   },
   "file_extension": ".py",
   "mimetype": "text/x-python",
   "name": "python",
   "nbconvert_exporter": "python",
   "pygments_lexer": "ipython3",
   "version": "3.13.3"
  }
 },
 "nbformat": 4,
 "nbformat_minor": 5
}
