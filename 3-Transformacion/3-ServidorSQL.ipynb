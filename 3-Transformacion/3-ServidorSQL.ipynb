{
 "cells": [
  {
   "cell_type": "markdown",
   "metadata": {},
   "source": [
    "# Que pasa si los datos son muy grandes?\n",
    "Si los datos a extraer de la base de datos son muy grandes, y al final solo se utilizan una pequeña parte de ellos, se puede hacer una selección de los datos a extraer, para que el tiempo de ejecución sea menor."
   ]
  },
  {
   "cell_type": "markdown",
   "metadata": {},
   "source": [
    "~~~bash\n",
    "pip install pandas-gbq -U\n",
    "~~~"
   ]
  },
  {
   "cell_type": "markdown",
   "metadata": {},
   "source": [
    "## 1. Query Personalizada\n",
    "Al extraer los datos de una base de datos, podemos ejecutar una query que este formateada para extraer los datos que necesitamos."
   ]
  },
  {
   "cell_type": "code",
   "execution_count": 4,
   "metadata": {},
   "outputs": [],
   "source": [
    "import pandas as pd\n",
    "\n",
    "enero_2024 = pd.read_csv(\"data/bigquery_hist_sales/Sales_2024_1.csv\")"
   ]
  },
  {
   "cell_type": "code",
   "execution_count": 16,
   "metadata": {},
   "outputs": [
    {
     "data": {
      "text/plain": [
       "Index(['Product', 'Quantity Ordered', 'Price Each', 'Order Date',\n",
       "       'Purchase Address', 'Category', 'city', 'sales'],\n",
       "      dtype='object')"
      ]
     },
     "execution_count": 16,
     "metadata": {},
     "output_type": "execute_result"
    }
   ],
   "source": [
    "enero_2024.columns"
   ]
  },
  {
   "cell_type": "code",
   "execution_count": 22,
   "metadata": {},
   "outputs": [
    {
     "data": {
      "text/plain": [
       "\"('Atlanta', 'Austin', 'Dallas', 'Portland', 'Seattle')\""
      ]
     },
     "execution_count": 22,
     "metadata": {},
     "output_type": "execute_result"
    }
   ],
   "source": [
    "enero_2024['city'] = enero_2024['Purchase Address'].apply(lambda x: x.split(', ')[1])\n",
    "enero_2024['sales'] = enero_2024['Quantity Ordered'] * enero_2024['Price Each']\n",
    "enero_resumen = enero_2024.groupby('city')['sales'].sum().reset_index()\n",
    "enero_resumen['promedio'] = enero_resumen['sales'].mean()\n",
    "stores_analisis = enero_resumen[enero_resumen['sales'] < enero_resumen['promedio']]\n",
    "stores_analisis_list = str(stores_analisis['city'].tolist()).replace('[','(').replace(']',')')\n",
    "stores_analisis_list"
   ]
  },
  {
   "cell_type": "code",
   "execution_count": 23,
   "metadata": {},
   "outputs": [],
   "source": [
    "from google.oauth2 import service_account\n",
    "import pandas_gbq\n",
    "\n",
    "credentials = service_account.Credentials.from_service_account_file(\n",
    "    'secretos/credentials_bigquery.json',\n",
    ")"
   ]
  },
  {
   "cell_type": "code",
   "execution_count": 24,
   "metadata": {},
   "outputs": [
    {
     "name": "stdout",
     "output_type": "stream",
     "text": [
      "\n",
      "SELECT * \n",
      "FROM `cogent-tree-369319.codigo_facilito_dw.sales_report_hist` \n",
      "WHERE EXTRACT(YEAR FROM CAST(order_date AS DATE)) = 2024 \n",
      "AND EXTRACT(MONTH FROM CAST(order_date AS DATE)) = 2\n",
      "AND SPLIT(purchase_address, ', ')[SAFE_OFFSET(1)] IN ('Atlanta', 'Austin', 'Dallas', 'Portland', 'Seattle')\n",
      "\n"
     ]
    }
   ],
   "source": [
    "year = 2024\n",
    "month = 2\n",
    "\n",
    "query = f\"\"\"\n",
    "SELECT * \n",
    "FROM `cogent-tree-369319.codigo_facilito_dw.sales_report_hist` \n",
    "WHERE EXTRACT(YEAR FROM CAST(order_date AS DATE)) = {year} \n",
    "AND EXTRACT(MONTH FROM CAST(order_date AS DATE)) = {month}\n",
    "AND SPLIT(purchase_address, ', ')[SAFE_OFFSET(1)] IN {stores_analisis_list}\n",
    "\"\"\"\n",
    "print(query)"
   ]
  },
  {
   "cell_type": "code",
   "execution_count": 25,
   "metadata": {},
   "outputs": [
    {
     "name": "stdout",
     "output_type": "stream",
     "text": [
      "Downloading: 100%|\u001b[32m██████████\u001b[0m|\n"
     ]
    },
    {
     "data": {
      "text/html": [
       "<div>\n",
       "<style scoped>\n",
       "    .dataframe tbody tr th:only-of-type {\n",
       "        vertical-align: middle;\n",
       "    }\n",
       "\n",
       "    .dataframe tbody tr th {\n",
       "        vertical-align: top;\n",
       "    }\n",
       "\n",
       "    .dataframe thead th {\n",
       "        text-align: right;\n",
       "    }\n",
       "</style>\n",
       "<table border=\"1\" class=\"dataframe\">\n",
       "  <thead>\n",
       "    <tr style=\"text-align: right;\">\n",
       "      <th></th>\n",
       "      <th>product</th>\n",
       "      <th>quantity_ordered</th>\n",
       "      <th>price_each</th>\n",
       "      <th>order_date</th>\n",
       "      <th>purchase_address</th>\n",
       "      <th>category</th>\n",
       "    </tr>\n",
       "  </thead>\n",
       "  <tbody>\n",
       "    <tr>\n",
       "      <th>0</th>\n",
       "      <td>AA Batteries (4-pack)</td>\n",
       "      <td>4</td>\n",
       "      <td>3.84</td>\n",
       "      <td>2024-02-27</td>\n",
       "      <td>218 West St, Seattle, WA 98101</td>\n",
       "      <td>Pilas</td>\n",
       "    </tr>\n",
       "    <tr>\n",
       "      <th>1</th>\n",
       "      <td>AA Batteries (4-pack)</td>\n",
       "      <td>4</td>\n",
       "      <td>3.84</td>\n",
       "      <td>2024-02-25</td>\n",
       "      <td>847 Center St, Portland, OR 97035</td>\n",
       "      <td>Pilas</td>\n",
       "    </tr>\n",
       "    <tr>\n",
       "      <th>2</th>\n",
       "      <td>AA Batteries (4-pack)</td>\n",
       "      <td>4</td>\n",
       "      <td>3.84</td>\n",
       "      <td>2024-02-27</td>\n",
       "      <td>933 Wilson St, Seattle, WA 98101</td>\n",
       "      <td>Pilas</td>\n",
       "    </tr>\n",
       "    <tr>\n",
       "      <th>3</th>\n",
       "      <td>AA Batteries (4-pack)</td>\n",
       "      <td>4</td>\n",
       "      <td>3.84</td>\n",
       "      <td>2024-02-29</td>\n",
       "      <td>493 Church St, Dallas, TX 75001</td>\n",
       "      <td>Pilas</td>\n",
       "    </tr>\n",
       "    <tr>\n",
       "      <th>4</th>\n",
       "      <td>AA Batteries (4-pack)</td>\n",
       "      <td>4</td>\n",
       "      <td>3.84</td>\n",
       "      <td>2024-02-29</td>\n",
       "      <td>43 Church St, Atlanta, GA 30301</td>\n",
       "      <td>Pilas</td>\n",
       "    </tr>\n",
       "    <tr>\n",
       "      <th>...</th>\n",
       "      <td>...</td>\n",
       "      <td>...</td>\n",
       "      <td>...</td>\n",
       "      <td>...</td>\n",
       "      <td>...</td>\n",
       "      <td>...</td>\n",
       "    </tr>\n",
       "    <tr>\n",
       "      <th>3596</th>\n",
       "      <td>AAA Batteries (4-pack)</td>\n",
       "      <td>3</td>\n",
       "      <td>2.99</td>\n",
       "      <td>2024-02-08</td>\n",
       "      <td>115 6th St, Atlanta, GA 30301</td>\n",
       "      <td>Pilas</td>\n",
       "    </tr>\n",
       "    <tr>\n",
       "      <th>3597</th>\n",
       "      <td>AAA Batteries (4-pack)</td>\n",
       "      <td>3</td>\n",
       "      <td>2.99</td>\n",
       "      <td>2024-02-03</td>\n",
       "      <td>165 Chestnut St, Seattle, WA 98101</td>\n",
       "      <td>Pilas</td>\n",
       "    </tr>\n",
       "    <tr>\n",
       "      <th>3598</th>\n",
       "      <td>AAA Batteries (4-pack)</td>\n",
       "      <td>3</td>\n",
       "      <td>2.99</td>\n",
       "      <td>2024-02-15</td>\n",
       "      <td>368 Spruce St, Dallas, TX 75001</td>\n",
       "      <td>Pilas</td>\n",
       "    </tr>\n",
       "    <tr>\n",
       "      <th>3599</th>\n",
       "      <td>AAA Batteries (4-pack)</td>\n",
       "      <td>3</td>\n",
       "      <td>2.99</td>\n",
       "      <td>2024-02-15</td>\n",
       "      <td>329 Washington St, Dallas, TX 75001</td>\n",
       "      <td>Pilas</td>\n",
       "    </tr>\n",
       "    <tr>\n",
       "      <th>3600</th>\n",
       "      <td>Lightning Charging Cable</td>\n",
       "      <td>3</td>\n",
       "      <td>14.95</td>\n",
       "      <td>2024-02-14</td>\n",
       "      <td>341 Cherry St, Atlanta, GA 30301</td>\n",
       "      <td>Cargadores</td>\n",
       "    </tr>\n",
       "  </tbody>\n",
       "</table>\n",
       "<p>3601 rows × 6 columns</p>\n",
       "</div>"
      ],
      "text/plain": [
       "                       product  quantity_ordered  price_each  order_date  \\\n",
       "0        AA Batteries (4-pack)                 4        3.84  2024-02-27   \n",
       "1        AA Batteries (4-pack)                 4        3.84  2024-02-25   \n",
       "2        AA Batteries (4-pack)                 4        3.84  2024-02-27   \n",
       "3        AA Batteries (4-pack)                 4        3.84  2024-02-29   \n",
       "4        AA Batteries (4-pack)                 4        3.84  2024-02-29   \n",
       "...                        ...               ...         ...         ...   \n",
       "3596    AAA Batteries (4-pack)                 3        2.99  2024-02-08   \n",
       "3597    AAA Batteries (4-pack)                 3        2.99  2024-02-03   \n",
       "3598    AAA Batteries (4-pack)                 3        2.99  2024-02-15   \n",
       "3599    AAA Batteries (4-pack)                 3        2.99  2024-02-15   \n",
       "3600  Lightning Charging Cable                 3       14.95  2024-02-14   \n",
       "\n",
       "                         purchase_address    category  \n",
       "0          218 West St, Seattle, WA 98101       Pilas  \n",
       "1       847 Center St, Portland, OR 97035       Pilas  \n",
       "2        933 Wilson St, Seattle, WA 98101       Pilas  \n",
       "3         493 Church St, Dallas, TX 75001       Pilas  \n",
       "4         43 Church St, Atlanta, GA 30301       Pilas  \n",
       "...                                   ...         ...  \n",
       "3596        115 6th St, Atlanta, GA 30301       Pilas  \n",
       "3597   165 Chestnut St, Seattle, WA 98101       Pilas  \n",
       "3598      368 Spruce St, Dallas, TX 75001       Pilas  \n",
       "3599  329 Washington St, Dallas, TX 75001       Pilas  \n",
       "3600     341 Cherry St, Atlanta, GA 30301  Cargadores  \n",
       "\n",
       "[3601 rows x 6 columns]"
      ]
     },
     "execution_count": 25,
     "metadata": {},
     "output_type": "execute_result"
    }
   ],
   "source": [
    "df = pandas_gbq.read_gbq(query, project_id=\"cogent-tree-369319\", credentials=credentials)\n",
    "df"
   ]
  },
  {
   "cell_type": "markdown",
   "metadata": {},
   "source": [
    "El límite de parámetros que puedes enviar a diferentes bases de datos SQL utilizando una query desde Python depende de varios factores, incluyendo:\n",
    "\n",
    "La base de datos específica:\n",
    "\n",
    "- MySQL: Tiene un límite de 65,535 parámetros en una consulta preparada.\n",
    "- PostgreSQL: El límite es de 32,767 parámetros por consulta.\n",
    "- SQL Server: Permite hasta 2100 parámetros en una sola consulta.\n",
    "- Oracle: El límite puede variar según la versión y configuración, pero generalmente es de alrededor de 1000 parámetros.\n",
    "- SQLite: No tiene un límite fijo en la cantidad de parámetros, pero está limitado por los recursos del sistema."
   ]
  },
  {
   "cell_type": "markdown",
   "metadata": {},
   "source": [
    "## 2. Creando una tabla en la base de datos\n",
    "Podemos crear una tabla en la base de datos y luego hacer un join con la tabla original.\n",
    "Este metodo es el mas eficiente, pero requiere permisos para crear tablas en la base de datos."
   ]
  },
  {
   "cell_type": "code",
   "execution_count": null,
   "metadata": {},
   "outputs": [
    {
     "name": "stderr",
     "output_type": "stream",
     "text": [
      "100%|██████████| 1/1 [00:00<?, ?it/s]\n"
     ]
    }
   ],
   "source": [
    "df_stores = stores_analisis[['city']]\n",
    "table_id = \"codigo_facilito_dw.stores_fil\"\n",
    "project_id=\"cogent-tree-369319\"\n",
    "pandas_gbq.to_gbq(df_stores, table_id, project_id=project_id, if_exists='replace')"
   ]
  },
  {
   "cell_type": "code",
   "execution_count": 28,
   "metadata": {},
   "outputs": [
    {
     "name": "stdout",
     "output_type": "stream",
     "text": [
      "\n",
      "SELECT * \n",
      "FROM `cogent-tree-369319.codigo_facilito_dw.sales_report_hist` srh\n",
      "INNER JOIN `cogent-tree-369319.codigo_facilito_dw.stores_fil` sf \n",
      "    ON SPLIT(purchase_address, ', ')[SAFE_OFFSET(1)] = sf.city\n",
      "WHERE EXTRACT(YEAR FROM CAST(srh.order_date AS DATE)) = 2024 \n",
      "AND EXTRACT(MONTH FROM CAST(srh.order_date AS DATE)) = 2\n",
      "\n"
     ]
    }
   ],
   "source": [
    "query = f\"\"\"\n",
    "SELECT * \n",
    "FROM `cogent-tree-369319.codigo_facilito_dw.sales_report_hist` srh\n",
    "INNER JOIN `cogent-tree-369319.codigo_facilito_dw.stores_fil` sf \n",
    "    ON SPLIT(purchase_address, ', ')[SAFE_OFFSET(1)] = sf.city\n",
    "WHERE EXTRACT(YEAR FROM CAST(srh.order_date AS DATE)) = {year} \n",
    "AND EXTRACT(MONTH FROM CAST(srh.order_date AS DATE)) = {month}\n",
    "\"\"\"\n",
    "print(query)"
   ]
  },
  {
   "cell_type": "code",
   "execution_count": 29,
   "metadata": {},
   "outputs": [
    {
     "name": "stdout",
     "output_type": "stream",
     "text": [
      "Downloading: 100%|\u001b[32m██████████\u001b[0m|\n"
     ]
    }
   ],
   "source": [
    "df = pandas_gbq.read_gbq(query, project_id, credentials=credentials)"
   ]
  },
  {
   "cell_type": "code",
   "execution_count": 30,
   "metadata": {},
   "outputs": [
    {
     "data": {
      "text/html": [
       "<div>\n",
       "<style scoped>\n",
       "    .dataframe tbody tr th:only-of-type {\n",
       "        vertical-align: middle;\n",
       "    }\n",
       "\n",
       "    .dataframe tbody tr th {\n",
       "        vertical-align: top;\n",
       "    }\n",
       "\n",
       "    .dataframe thead th {\n",
       "        text-align: right;\n",
       "    }\n",
       "</style>\n",
       "<table border=\"1\" class=\"dataframe\">\n",
       "  <thead>\n",
       "    <tr style=\"text-align: right;\">\n",
       "      <th></th>\n",
       "      <th>product</th>\n",
       "      <th>quantity_ordered</th>\n",
       "      <th>price_each</th>\n",
       "      <th>order_date</th>\n",
       "      <th>purchase_address</th>\n",
       "      <th>category</th>\n",
       "      <th>city</th>\n",
       "    </tr>\n",
       "  </thead>\n",
       "  <tbody>\n",
       "    <tr>\n",
       "      <th>0</th>\n",
       "      <td>AA Batteries (4-pack)</td>\n",
       "      <td>4</td>\n",
       "      <td>3.84</td>\n",
       "      <td>2024-02-27</td>\n",
       "      <td>218 West St, Seattle, WA 98101</td>\n",
       "      <td>Pilas</td>\n",
       "      <td>Seattle</td>\n",
       "    </tr>\n",
       "    <tr>\n",
       "      <th>1</th>\n",
       "      <td>AA Batteries (4-pack)</td>\n",
       "      <td>4</td>\n",
       "      <td>3.84</td>\n",
       "      <td>2024-02-25</td>\n",
       "      <td>847 Center St, Portland, OR 97035</td>\n",
       "      <td>Pilas</td>\n",
       "      <td>Portland</td>\n",
       "    </tr>\n",
       "    <tr>\n",
       "      <th>2</th>\n",
       "      <td>AA Batteries (4-pack)</td>\n",
       "      <td>4</td>\n",
       "      <td>3.84</td>\n",
       "      <td>2024-02-27</td>\n",
       "      <td>933 Wilson St, Seattle, WA 98101</td>\n",
       "      <td>Pilas</td>\n",
       "      <td>Seattle</td>\n",
       "    </tr>\n",
       "    <tr>\n",
       "      <th>3</th>\n",
       "      <td>AA Batteries (4-pack)</td>\n",
       "      <td>4</td>\n",
       "      <td>3.84</td>\n",
       "      <td>2024-02-29</td>\n",
       "      <td>493 Church St, Dallas, TX 75001</td>\n",
       "      <td>Pilas</td>\n",
       "      <td>Dallas</td>\n",
       "    </tr>\n",
       "    <tr>\n",
       "      <th>4</th>\n",
       "      <td>AA Batteries (4-pack)</td>\n",
       "      <td>4</td>\n",
       "      <td>3.84</td>\n",
       "      <td>2024-02-29</td>\n",
       "      <td>43 Church St, Atlanta, GA 30301</td>\n",
       "      <td>Pilas</td>\n",
       "      <td>Atlanta</td>\n",
       "    </tr>\n",
       "    <tr>\n",
       "      <th>...</th>\n",
       "      <td>...</td>\n",
       "      <td>...</td>\n",
       "      <td>...</td>\n",
       "      <td>...</td>\n",
       "      <td>...</td>\n",
       "      <td>...</td>\n",
       "      <td>...</td>\n",
       "    </tr>\n",
       "    <tr>\n",
       "      <th>3596</th>\n",
       "      <td>AAA Batteries (4-pack)</td>\n",
       "      <td>3</td>\n",
       "      <td>2.99</td>\n",
       "      <td>2024-02-08</td>\n",
       "      <td>115 6th St, Atlanta, GA 30301</td>\n",
       "      <td>Pilas</td>\n",
       "      <td>Atlanta</td>\n",
       "    </tr>\n",
       "    <tr>\n",
       "      <th>3597</th>\n",
       "      <td>AAA Batteries (4-pack)</td>\n",
       "      <td>3</td>\n",
       "      <td>2.99</td>\n",
       "      <td>2024-02-03</td>\n",
       "      <td>165 Chestnut St, Seattle, WA 98101</td>\n",
       "      <td>Pilas</td>\n",
       "      <td>Seattle</td>\n",
       "    </tr>\n",
       "    <tr>\n",
       "      <th>3598</th>\n",
       "      <td>AAA Batteries (4-pack)</td>\n",
       "      <td>3</td>\n",
       "      <td>2.99</td>\n",
       "      <td>2024-02-15</td>\n",
       "      <td>368 Spruce St, Dallas, TX 75001</td>\n",
       "      <td>Pilas</td>\n",
       "      <td>Dallas</td>\n",
       "    </tr>\n",
       "    <tr>\n",
       "      <th>3599</th>\n",
       "      <td>AAA Batteries (4-pack)</td>\n",
       "      <td>3</td>\n",
       "      <td>2.99</td>\n",
       "      <td>2024-02-15</td>\n",
       "      <td>329 Washington St, Dallas, TX 75001</td>\n",
       "      <td>Pilas</td>\n",
       "      <td>Dallas</td>\n",
       "    </tr>\n",
       "    <tr>\n",
       "      <th>3600</th>\n",
       "      <td>Lightning Charging Cable</td>\n",
       "      <td>3</td>\n",
       "      <td>14.95</td>\n",
       "      <td>2024-02-14</td>\n",
       "      <td>341 Cherry St, Atlanta, GA 30301</td>\n",
       "      <td>Cargadores</td>\n",
       "      <td>Atlanta</td>\n",
       "    </tr>\n",
       "  </tbody>\n",
       "</table>\n",
       "<p>3601 rows × 7 columns</p>\n",
       "</div>"
      ],
      "text/plain": [
       "                       product  quantity_ordered  price_each  order_date  \\\n",
       "0        AA Batteries (4-pack)                 4        3.84  2024-02-27   \n",
       "1        AA Batteries (4-pack)                 4        3.84  2024-02-25   \n",
       "2        AA Batteries (4-pack)                 4        3.84  2024-02-27   \n",
       "3        AA Batteries (4-pack)                 4        3.84  2024-02-29   \n",
       "4        AA Batteries (4-pack)                 4        3.84  2024-02-29   \n",
       "...                        ...               ...         ...         ...   \n",
       "3596    AAA Batteries (4-pack)                 3        2.99  2024-02-08   \n",
       "3597    AAA Batteries (4-pack)                 3        2.99  2024-02-03   \n",
       "3598    AAA Batteries (4-pack)                 3        2.99  2024-02-15   \n",
       "3599    AAA Batteries (4-pack)                 3        2.99  2024-02-15   \n",
       "3600  Lightning Charging Cable                 3       14.95  2024-02-14   \n",
       "\n",
       "                         purchase_address    category      city  \n",
       "0          218 West St, Seattle, WA 98101       Pilas   Seattle  \n",
       "1       847 Center St, Portland, OR 97035       Pilas  Portland  \n",
       "2        933 Wilson St, Seattle, WA 98101       Pilas   Seattle  \n",
       "3         493 Church St, Dallas, TX 75001       Pilas    Dallas  \n",
       "4         43 Church St, Atlanta, GA 30301       Pilas   Atlanta  \n",
       "...                                   ...         ...       ...  \n",
       "3596        115 6th St, Atlanta, GA 30301       Pilas   Atlanta  \n",
       "3597   165 Chestnut St, Seattle, WA 98101       Pilas   Seattle  \n",
       "3598      368 Spruce St, Dallas, TX 75001       Pilas    Dallas  \n",
       "3599  329 Washington St, Dallas, TX 75001       Pilas    Dallas  \n",
       "3600     341 Cherry St, Atlanta, GA 30301  Cargadores   Atlanta  \n",
       "\n",
       "[3601 rows x 7 columns]"
      ]
     },
     "execution_count": 30,
     "metadata": {},
     "output_type": "execute_result"
    }
   ],
   "source": [
    "df"
   ]
  }
 ],
 "metadata": {
  "kernelspec": {
   "display_name": "curso_cf_etl",
   "language": "python",
   "name": "python3"
  },
  "language_info": {
   "codemirror_mode": {
    "name": "ipython",
    "version": 3
   },
   "file_extension": ".py",
   "mimetype": "text/x-python",
   "name": "python",
   "nbconvert_exporter": "python",
   "pygments_lexer": "ipython3",
   "version": "3.11.9"
  }
 },
 "nbformat": 4,
 "nbformat_minor": 2
}
