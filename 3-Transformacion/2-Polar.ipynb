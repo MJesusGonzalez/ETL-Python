{
 "cells": [
  {
   "cell_type": "markdown",
   "id": "1c6ff0e3",
   "metadata": {},
   "source": [
    "## Librerias"
   ]
  },
  {
   "cell_type": "code",
   "execution_count": 42,
   "id": "d7bd3f8d",
   "metadata": {},
   "outputs": [],
   "source": [
    "from datetime import date, timedelta\n",
    "import polars as pl\n",
    "import os"
   ]
  },
  {
   "cell_type": "markdown",
   "id": "47b6083d",
   "metadata": {},
   "source": [
    "## Funciones - Estandares"
   ]
  },
  {
   "cell_type": "code",
   "execution_count": 38,
   "id": "bfcfa25e",
   "metadata": {},
   "outputs": [
    {
     "data": {
      "text/plain": [
       "<polars.config.Config at 0x1f5c4faefd0>"
      ]
     },
     "execution_count": 38,
     "metadata": {},
     "output_type": "execute_result"
    }
   ],
   "source": [
    "pl.Config(set_fmt_float=\"full\")"
   ]
  },
  {
   "cell_type": "code",
   "execution_count": null,
   "id": "9f5e0942",
   "metadata": {},
   "outputs": [],
   "source": [
    "path_data = os.path.join(os.getcwd(), 'data')\n",
    "path_file = lambda file: os.path.join(path_data, file)"
   ]
  },
  {
   "cell_type": "markdown",
   "id": "2f8ca6d2",
   "metadata": {},
   "source": [
    "## Data"
   ]
  },
  {
   "cell_type": "code",
   "execution_count": null,
   "id": "472a08c4",
   "metadata": {},
   "outputs": [],
   "source": [
    "sales_data = pl.read_csv(path_file('sales.csv'), \n",
    "                        schema=pl.Schema({\n",
    "                            'Store': pl.Int64(),\n",
    "                            'Date': pl.Date(),\n",
    "                            'Weekly_Sales': pl.Float64(),\n",
    "                            'Holiday_Flag': pl.Int64(),\n",
    "                            'Temperature': pl.Float64(),\n",
    "                            'Fuel_Price': pl.Float64(),\n",
    "                            'CPI': pl.Float64(),\n",
    "                            'Unemployment': pl.Float64(),\n",
    "                        }\n",
    "                        ))\n",
    "sales_data.schema"
   ]
  },
  {
   "cell_type": "code",
   "execution_count": 47,
   "id": "877bdb10",
   "metadata": {},
   "outputs": [],
   "source": [
    "store = pl.read_csv(path_file('storedesc.csv'))"
   ]
  },
  {
   "cell_type": "markdown",
   "id": "4fbc14a4",
   "metadata": {},
   "source": [
    "## Transformacion"
   ]
  },
  {
   "cell_type": "markdown",
   "id": "41cb3399",
   "metadata": {},
   "source": [
    "### Fecha"
   ]
  },
  {
   "cell_type": "markdown",
   "id": "f51fe0ff",
   "metadata": {},
   "source": [
    "#### Filtro"
   ]
  },
  {
   "cell_type": "code",
   "execution_count": null,
   "id": "da828c96",
   "metadata": {},
   "outputs": [],
   "source": [
    "sales_data.filter(pl.col('Store') == 1).head(2)"
   ]
  },
  {
   "cell_type": "code",
   "execution_count": null,
   "id": "95ea44a7",
   "metadata": {},
   "outputs": [],
   "source": [
    "sales_data.filter(pl.col('Date') == date(2010,2,5)).head(2)"
   ]
  },
  {
   "cell_type": "markdown",
   "id": "29b5b88d",
   "metadata": {},
   "source": [
    "#### Operaciones"
   ]
  },
  {
   "cell_type": "code",
   "execution_count": null,
   "id": "a1f5fde0",
   "metadata": {},
   "outputs": [],
   "source": [
    "sales_data = sales_data.with_columns(\n",
    "    pl.col('Date').dt.strftime('%Y-%m').alias('Y-M')\n",
    ")"
   ]
  },
  {
   "cell_type": "code",
   "execution_count": 41,
   "id": "934acc5a",
   "metadata": {},
   "outputs": [
    {
     "data": {
      "text/html": [
       "<div><style>\n",
       ".dataframe > thead > tr,\n",
       ".dataframe > tbody > tr {\n",
       "  text-align: right;\n",
       "  white-space: pre-wrap;\n",
       "}\n",
       "</style>\n",
       "<small>shape: (5, 2)</small><table border=\"1\" class=\"dataframe\"><thead><tr><th>Y-M</th><th>Total_Sales</th></tr><tr><td>str</td><td>f64</td></tr></thead><tbody><tr><td>&quot;2012-09&quot;</td><td>180645544</td></tr><tr><td>&quot;2011-05&quot;</td><td>181648158</td></tr><tr><td>&quot;2010-03&quot;</td><td>181919802</td></tr><tr><td>&quot;2010-11&quot;</td><td>202853370</td></tr><tr><td>&quot;2010-05&quot;</td><td>186710934</td></tr></tbody></table></div>"
      ],
      "text/plain": [
       "shape: (5, 2)\n",
       "┌─────────┬─────────────┐\n",
       "│ Y-M     ┆ Total_Sales │\n",
       "│ ---     ┆ ---         │\n",
       "│ str     ┆ f64         │\n",
       "╞═════════╪═════════════╡\n",
       "│ 2012-09 ┆ 180645544   │\n",
       "│ 2011-05 ┆ 181648158   │\n",
       "│ 2010-03 ┆ 181919802   │\n",
       "│ 2010-11 ┆ 202853370   │\n",
       "│ 2010-05 ┆ 186710934   │\n",
       "└─────────┴─────────────┘"
      ]
     },
     "execution_count": 41,
     "metadata": {},
     "output_type": "execute_result"
    }
   ],
   "source": [
    "sales_data.group_by('Y-M').agg(\n",
    "    pl.sum('Weekly_Sales').round(0).alias('Total_Sales')\n",
    ").head()"
   ]
  },
  {
   "cell_type": "code",
   "execution_count": 43,
   "id": "d2a2688b",
   "metadata": {},
   "outputs": [],
   "source": [
    "sales_data = sales_data.with_columns(\n",
    "    (pl.col('Date') + timedelta(days=7)).alias('Next_Week_Date')\n",
    ")"
   ]
  },
  {
   "cell_type": "code",
   "execution_count": 45,
   "id": "38dd112b",
   "metadata": {},
   "outputs": [
    {
     "data": {
      "text/html": [
       "<div><style>\n",
       ".dataframe > thead > tr,\n",
       ".dataframe > tbody > tr {\n",
       "  text-align: right;\n",
       "  white-space: pre-wrap;\n",
       "}\n",
       "</style>\n",
       "<small>shape: (2, 10)</small><table border=\"1\" class=\"dataframe\"><thead><tr><th>Store</th><th>Date</th><th>Weekly_Sales</th><th>Holiday_Flag</th><th>Temperature</th><th>Fuel_Price</th><th>CPI</th><th>Unemployment</th><th>Y-M</th><th>Next_Week_Date</th></tr><tr><td>i64</td><td>date</td><td>f64</td><td>i64</td><td>f64</td><td>f64</td><td>f64</td><td>f64</td><td>str</td><td>date</td></tr></thead><tbody><tr><td>1</td><td>2010-02-05</td><td>1643690.9</td><td>0</td><td>42.31</td><td>2.572</td><td>211.0963582</td><td>8.106</td><td>&quot;2010-02&quot;</td><td>2010-02-12</td></tr><tr><td>1</td><td>2010-02-12</td><td>1641957.44</td><td>1</td><td>38.51</td><td>2.548</td><td>211.2421698</td><td>8.106</td><td>&quot;2010-02&quot;</td><td>2010-02-19</td></tr></tbody></table></div>"
      ],
      "text/plain": [
       "shape: (2, 10)\n",
       "┌───────┬────────────┬────────────┬────────────┬───┬────────────┬────────────┬─────────┬───────────┐\n",
       "│ Store ┆ Date       ┆ Weekly_Sal ┆ Holiday_Fl ┆ … ┆ CPI        ┆ Unemployme ┆ Y-M     ┆ Next_Week │\n",
       "│ ---   ┆ ---        ┆ es         ┆ ag         ┆   ┆ ---        ┆ nt         ┆ ---     ┆ _Date     │\n",
       "│ i64   ┆ date       ┆ ---        ┆ ---        ┆   ┆ f64        ┆ ---        ┆ str     ┆ ---       │\n",
       "│       ┆            ┆ f64        ┆ i64        ┆   ┆            ┆ f64        ┆         ┆ date      │\n",
       "╞═══════╪════════════╪════════════╪════════════╪═══╪════════════╪════════════╪═════════╪═══════════╡\n",
       "│ 1     ┆ 2010-02-05 ┆ 1643690.9  ┆ 0          ┆ … ┆ 211.096358 ┆ 8.106      ┆ 2010-02 ┆ 2010-02-1 │\n",
       "│       ┆            ┆            ┆            ┆   ┆ 2          ┆            ┆         ┆ 2         │\n",
       "│ 1     ┆ 2010-02-12 ┆ 1641957.44 ┆ 1          ┆ … ┆ 211.242169 ┆ 8.106      ┆ 2010-02 ┆ 2010-02-1 │\n",
       "│       ┆            ┆            ┆            ┆   ┆ 8          ┆            ┆         ┆ 9         │\n",
       "└───────┴────────────┴────────────┴────────────┴───┴────────────┴────────────┴─────────┴───────────┘"
      ]
     },
     "execution_count": 45,
     "metadata": {},
     "output_type": "execute_result"
    }
   ],
   "source": [
    "sales_data.head(2)"
   ]
  },
  {
   "cell_type": "markdown",
   "id": "8685dd1d",
   "metadata": {},
   "source": [
    "### String"
   ]
  },
  {
   "cell_type": "code",
   "execution_count": 56,
   "id": "c1783e73",
   "metadata": {},
   "outputs": [
    {
     "data": {
      "text/html": [
       "<div><style>\n",
       ".dataframe > thead > tr,\n",
       ".dataframe > tbody > tr {\n",
       "  text-align: right;\n",
       "  white-space: pre-wrap;\n",
       "}\n",
       "</style>\n",
       "<small>shape: (1, 1)</small><table border=\"1\" class=\"dataframe\"><thead><tr><th>Nunmber</th></tr><tr><td>list[str]</td></tr></thead><tbody><tr><td>[&quot;09&quot;, &quot;Florence&quot;, &quot;Way&quot;]</td></tr></tbody></table></div>"
      ],
      "text/plain": [
       "shape: (1, 1)\n",
       "┌───────────────────────────┐\n",
       "│ Nunmber                   │\n",
       "│ ---                       │\n",
       "│ list[str]                 │\n",
       "╞═══════════════════════════╡\n",
       "│ [\"09\", \"Florence\", \"Way\"] │\n",
       "└───────────────────────────┘"
      ]
     },
     "execution_count": 56,
     "metadata": {},
     "output_type": "execute_result"
    }
   ],
   "source": [
    "store.select(\n",
    "    pl.col('address').str.split(' ').get(0).alias('Nunmber')\n",
    ")"
   ]
  },
  {
   "cell_type": "code",
   "execution_count": 62,
   "id": "6ad85597",
   "metadata": {},
   "outputs": [
    {
     "data": {
      "text/html": [
       "<div><style>\n",
       ".dataframe > thead > tr,\n",
       ".dataframe > tbody > tr {\n",
       "  text-align: right;\n",
       "  white-space: pre-wrap;\n",
       "}\n",
       "</style>\n",
       "<small>shape: (2, 5)</small><table border=\"1\" class=\"dataframe\"><thead><tr><th>store</th><th>city</th><th>country</th><th>street_number</th><th>street_name</th></tr><tr><td>i64</td><td>str</td><td>str</td><td>str</td><td>str</td></tr></thead><tbody><tr><td>1</td><td>&quot;Honolulu&quot;</td><td>&quot;United States&quot;</td><td>&quot;09&quot;</td><td>&quot;Florence Way&quot;</td></tr><tr><td>2</td><td>&quot;Tulsa&quot;</td><td>&quot;United States&quot;</td><td>&quot;97&quot;</td><td>&quot;Hollow Ridge Hill&quot;</td></tr></tbody></table></div>"
      ],
      "text/plain": [
       "shape: (2, 5)\n",
       "┌───────┬──────────┬───────────────┬───────────────┬───────────────────┐\n",
       "│ store ┆ city     ┆ country       ┆ street_number ┆ street_name       │\n",
       "│ ---   ┆ ---      ┆ ---           ┆ ---           ┆ ---               │\n",
       "│ i64   ┆ str      ┆ str           ┆ str           ┆ str               │\n",
       "╞═══════╪══════════╪═══════════════╪═══════════════╪═══════════════════╡\n",
       "│ 1     ┆ Honolulu ┆ United States ┆ 09            ┆ Florence Way      │\n",
       "│ 2     ┆ Tulsa    ┆ United States ┆ 97            ┆ Hollow Ridge Hill │\n",
       "└───────┴──────────┴───────────────┴───────────────┴───────────────────┘"
      ]
     },
     "execution_count": 62,
     "metadata": {},
     "output_type": "execute_result"
    }
   ],
   "source": [
    "store.with_columns(\n",
    "    pl.col('address').str.splitn(' ',2).alias('Nunmber')\n",
    "    .struct.rename_fields(['street_number', 'street_name'])\n",
    "    .alias('address')\n",
    ").unnest('address').head(2)"
   ]
  },
  {
   "cell_type": "code",
   "execution_count": 65,
   "id": "f98c012d",
   "metadata": {},
   "outputs": [
    {
     "data": {
      "text/html": [
       "<div><style>\n",
       ".dataframe > thead > tr,\n",
       ".dataframe > tbody > tr {\n",
       "  text-align: right;\n",
       "  white-space: pre-wrap;\n",
       "}\n",
       "</style>\n",
       "<small>shape: (2, 1)</small><table border=\"1\" class=\"dataframe\"><thead><tr><th>Street_Name_Only</th></tr><tr><td>str</td></tr></thead><tbody><tr><td>&quot; Florence Way&quot;</td></tr><tr><td>&quot; Hollow Ridge Hill&quot;</td></tr></tbody></table></div>"
      ],
      "text/plain": [
       "shape: (2, 1)\n",
       "┌────────────────────┐\n",
       "│ Street_Name_Only   │\n",
       "│ ---                │\n",
       "│ str                │\n",
       "╞════════════════════╡\n",
       "│  Florence Way      │\n",
       "│  Hollow Ridge Hill │\n",
       "└────────────────────┘"
      ]
     },
     "execution_count": 65,
     "metadata": {},
     "output_type": "execute_result"
    }
   ],
   "source": [
    "store.select(\n",
    "    pl.col('address').str.replace(r'\\d+', '').alias('Street_Name_Only')\n",
    ").head(2)"
   ]
  }
 ],
 "metadata": {
  "kernelspec": {
   "display_name": ".venv",
   "language": "python",
   "name": "python3"
  },
  "language_info": {
   "codemirror_mode": {
    "name": "ipython",
    "version": 3
   },
   "file_extension": ".py",
   "mimetype": "text/x-python",
   "name": "python",
   "nbconvert_exporter": "python",
   "pygments_lexer": "ipython3",
   "version": "3.13.3"
  }
 },
 "nbformat": 4,
 "nbformat_minor": 5
}
