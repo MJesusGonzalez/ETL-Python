{
 "cells": [
  {
   "cell_type": "markdown",
   "id": "6a06e1f5",
   "metadata": {},
   "source": [
    "## Librerias"
   ]
  },
  {
   "cell_type": "code",
   "execution_count": null,
   "id": "b3c62996",
   "metadata": {},
   "outputs": [],
   "source": [
    "import pandas as pd\n",
    "import os\n",
    "import re"
   ]
  },
  {
   "cell_type": "markdown",
   "id": "1bfb8e09",
   "metadata": {},
   "source": [
    "## Funciones - Estandares"
   ]
  },
  {
   "cell_type": "code",
   "execution_count": null,
   "id": "2c8aeb79",
   "metadata": {},
   "outputs": [],
   "source": [
    "pd.set_option('display.float_format', '{:.0f}'.format)"
   ]
  },
  {
   "cell_type": "code",
   "execution_count": null,
   "id": "95b509ee",
   "metadata": {},
   "outputs": [],
   "source": [
    "path_data = os.path.join(os.getcwd(), 'data')\n",
    "path_file = lambda filename: os.path.join(path_data, filename)"
   ]
  },
  {
   "cell_type": "code",
   "execution_count": null,
   "id": "ed0e8073",
   "metadata": {},
   "outputs": [],
   "source": [
    "def remove_numeric_preffix(text):\n",
    "    return re.sub(r'^\\d+\\s*', '', text)"
   ]
  },
  {
   "cell_type": "markdown",
   "id": "0af72f93",
   "metadata": {},
   "source": [
    "## Data"
   ]
  },
  {
   "cell_type": "code",
   "execution_count": null,
   "id": "b6a33500",
   "metadata": {},
   "outputs": [],
   "source": [
    "sales_data = pd.read_csv(path_file('sales.csv'))"
   ]
  },
  {
   "cell_type": "code",
   "execution_count": null,
   "id": "dbba62bb",
   "metadata": {},
   "outputs": [],
   "source": [
    "storedesc = pd.read_csv(path_file('storedesc.csv'))"
   ]
  },
  {
   "cell_type": "code",
   "execution_count": null,
   "id": "4ed86e67",
   "metadata": {},
   "outputs": [],
   "source": [
    "stores = pd.read_csv(path_file('stores.csv'))"
   ]
  },
  {
   "cell_type": "markdown",
   "id": "9d41212d",
   "metadata": {},
   "source": [
    "## Notas"
   ]
  },
  {
   "cell_type": "markdown",
   "id": "b82622c6",
   "metadata": {},
   "source": [
    "### Fecha"
   ]
  },
  {
   "cell_type": "markdown",
   "id": "9f949c0f",
   "metadata": {},
   "source": [
    "Guía de los códigos de formato más comunes para `strftime`, que te permitirá personalizar la representación de tus fechas y horas:\n",
    "\n",
    "* **%Y:** Año con cuatro dígitos (por ejemplo, 2024).\n",
    "* **%y:** Año con dos dígitos (por ejemplo, 24).\n",
    "* **%m:** Mes como número decimal (01 a 12).\n",
    "* **%B:** Nombre completo del mes (por ejemplo, Enero).\n",
    "* **%b:** Nombre abreviado del mes (por ejemplo, Ene).\n",
    "* **%d:** Día del mes como número decimal (01 a 31).\n",
    "* **%A:** Nombre completo del día de la semana (por ejemplo, Lunes).\n",
    "* **%a:** Nombre abreviado del día de la semana (por ejemplo, Lun).\n",
    "* **%H:** Hora (reloj de 24 horas) como número decimal (00 a 23).\n",
    "* **%I:** Hora (reloj de 12 horas) como número decimal (01 a 12).\n",
    "* **%p:** AM/PM.\n",
    "* **%M:** Minuto como número decimal (00 a 59).\n",
    "* **%S:** Segundo como número decimal (00 a 61).\n",
    "* **%f:** Microsegundo como número decimal (000000 a 999999).\n",
    "* **%z:** Desplazamiento UTC (por ejemplo, +0100).\n",
    "* **%Z:** Nombre de la zona horaria (por ejemplo, CET).\n",
    "* **%j:** Día del año como número decimal (001 a 366).\n",
    "* **%U:** Número de la semana del año (domingo como primer día de la semana) como número decimal (00 a 53).\n",
    "* **%W:** Número de la semana del año (lunes como primer día de la semana) como número decimal (00 a 53).\n",
    "* **%c:** Representación de fecha y hora apropiada para la configuración regional.\n",
    "* **%x:** Representación de fecha apropiada para la configuración regional.\n",
    "* **%X:** Representación de hora apropiada para la configuración regional.\n",
    "\n",
    "\n",
    "**Ejemplos:**\n",
    "\n",
    "* `%Y-%m-%d`: \"2024-07-28\"\n",
    "* `%d/%m/%Y %H:%M:%S`: \"28/07/2024 19:01:49\"\n",
    "* `%A, %d de %B de %Y`: \"Domingo, 28 de Julio de 2024\"\n",
    "* `%I:%M %p`: \"07:01 PM\"\n"
   ]
  },
  {
   "cell_type": "markdown",
   "id": "aa764e72",
   "metadata": {},
   "source": [
    "### .dt"
   ]
  },
  {
   "cell_type": "markdown",
   "id": "f0b4f0ad",
   "metadata": {},
   "source": [
    "¿Por qué .dt es tan útil?\n",
    "\n",
    "- **Simplifica el acceso a componentes de fechas**: Evita tener que usar funciones más complejas de Python para extraer años, meses, días, etc.\n",
    "- **Facilita cálculos y comparaciones**: Permite realizar operaciones aritméticas y comparaciones entre fechas de manera intuitiva.\n",
    "- **Mejora la legibilidad del código**: Hace que tu código sea más claro y fácil de entender.\n",
    "\n",
    "Funciones más comunes de .dt:\n",
    "\n",
    "- `dt.dayofweek`: Extrae el día de la semana como número entero (0 para lunes, 6 para domingo).\n",
    "- `dt.day_name`: Extrae el nombre del día de la semana (\"Monday\", \"Tuesday\", etc.).\n",
    "- `dt.month_name`: Extrae el nombre del mes (\"January\", \"February\", etc.)."
   ]
  },
  {
   "cell_type": "markdown",
   "id": "a5f05219",
   "metadata": {},
   "source": [
    "### regex"
   ]
  },
  {
   "cell_type": "markdown",
   "id": "358e005c",
   "metadata": {},
   "source": [
    "**Introducción a la librería re de Python**\n",
    "\n",
    "La librería re de Python proporciona un conjunto de funciones que te permiten trabajar con expresiones regulares. Las expresiones regulares son secuencias de caracteres que definen patrones de búsqueda. Son increíblemente útiles para tareas como la validación de datos, la búsqueda y extracción de información, y la manipulación de cadenas de texto."
   ]
  },
  {
   "cell_type": "markdown",
   "id": "ba1d24b9",
   "metadata": {},
   "source": [
    "## Transformacion"
   ]
  },
  {
   "cell_type": "markdown",
   "id": "fcdafb4f",
   "metadata": {},
   "source": [
    "### Fecha"
   ]
  },
  {
   "cell_type": "markdown",
   "id": "fe369902",
   "metadata": {},
   "source": [
    "#### Formato"
   ]
  },
  {
   "cell_type": "code",
   "execution_count": null,
   "id": "23b978ea",
   "metadata": {},
   "outputs": [],
   "source": [
    "sales_data['Date'] = pd.to_datetime(sales_data['Date'], format='%d-%m-%Y')"
   ]
  },
  {
   "cell_type": "code",
   "execution_count": null,
   "id": "34058d6d",
   "metadata": {},
   "outputs": [],
   "source": [
    "sales_data['Date'].dt.strftime('%Y-%m').head(2)"
   ]
  },
  {
   "cell_type": "markdown",
   "id": "9f963c0f",
   "metadata": {},
   "source": [
    "#### Filtro"
   ]
  },
  {
   "cell_type": "code",
   "execution_count": null,
   "id": "86d25ff9",
   "metadata": {},
   "outputs": [],
   "source": [
    "filtro = sales_data['Date'] == '2010-02-26'\n",
    "sales_data.loc[filtro].head(2)"
   ]
  },
  {
   "cell_type": "code",
   "execution_count": null,
   "id": "2fe3f4f3",
   "metadata": {},
   "outputs": [],
   "source": [
    "sales_data.loc[sales_data['Date'].dt.strftime('%Y-%m') == '2010-02'].head(2)"
   ]
  },
  {
   "cell_type": "code",
   "execution_count": null,
   "id": "fe7a41b2",
   "metadata": {},
   "outputs": [],
   "source": [
    "sales_data.loc[sales_data['Date'].dt.month == 4].head(2)"
   ]
  },
  {
   "cell_type": "code",
   "execution_count": null,
   "id": "d1f288d9",
   "metadata": {},
   "outputs": [],
   "source": [
    "sales_data.query('Date == \"2010-02-26\"').head(2)"
   ]
  },
  {
   "cell_type": "markdown",
   "id": "1a08f187",
   "metadata": {},
   "source": [
    "#### Operaciones"
   ]
  },
  {
   "cell_type": "code",
   "execution_count": null,
   "id": "176b6caa",
   "metadata": {},
   "outputs": [],
   "source": [
    "# Ventas por mes y anio\n",
    "# sales_data['Y-M'] = sales_data['Date'].dt.to_period('M')\n",
    "# Forma 1\n",
    "sales_data.groupby(sales_data['Date'].dt.strftime('%Y-%m'))['Weekly_Sales'].sum().head(2)\n",
    "# Forma 2\n",
    "sales_data.groupby(sales_data['Date'].dt.to_period('M'))['Weekly_Sales'].sum().head(2)"
   ]
  },
  {
   "cell_type": "code",
   "execution_count": null,
   "id": "b0640436",
   "metadata": {},
   "outputs": [],
   "source": [
    "# operaciones con fechas\n",
    "print(sales_data['Date'].head(2))\n",
    "print((sales_data['Date'] + pd.DateOffset(months=2, days=5)).head(2))"
   ]
  },
  {
   "cell_type": "markdown",
   "id": "d272b92c",
   "metadata": {},
   "source": [
    "### Strings"
   ]
  },
  {
   "cell_type": "markdown",
   "id": "24100af1",
   "metadata": {},
   "source": [
    "#### Formato"
   ]
  },
  {
   "cell_type": "code",
   "execution_count": null,
   "id": "6735e9b7",
   "metadata": {},
   "outputs": [],
   "source": [
    "storedesc['address'].str.split(' ', n=1, expand=True).head(2)"
   ]
  },
  {
   "cell_type": "code",
   "execution_count": null,
   "id": "0c3abea0",
   "metadata": {},
   "outputs": [],
   "source": [
    "storedesc['address'].apply(remove_numeric_preffix).head(2)"
   ]
  },
  {
   "cell_type": "markdown",
   "id": "d0f75c81",
   "metadata": {},
   "source": [
    "#### Operaciones"
   ]
  },
  {
   "cell_type": "code",
   "execution_count": null,
   "id": "986105f1",
   "metadata": {},
   "outputs": [],
   "source": [
    "\"\"\"\n",
    "Compila un patrón de expresión regular en un objeto de expresión regular, \n",
    "que puede ser usado para búsquedas posteriores. \n",
    "Esto mejora el rendimiento si vas a usar la misma expresión \n",
    "regular varias veces.\n",
    "\"\"\"\n",
    "\n",
    "pattern = re.compile(r'\\d+')\n",
    "pattern.sub('', '1234 Main Street')\n"
   ]
  },
  {
   "cell_type": "code",
   "execution_count": null,
   "id": "a963309f",
   "metadata": {},
   "outputs": [],
   "source": [
    "\"\"\"\n",
    "Escanea una cadena de texto buscando la primera ubicación \n",
    "donde coincide la expresión regular y devuelve \n",
    "un objeto de coincidencia.\n",
    "\"\"\"\n",
    "\n",
    "text = \"\"\"\n",
    "Esto es un texto de ejemplo que \n",
    "contiene un número 1234 en medio del texto y otro número 5678 al final.\n",
    "\"\"\"\n",
    "\n",
    "print(re.search(r'\\d+', text).group())\n",
    "print(re.findall(r'\\d+', text))"
   ]
  },
  {
   "cell_type": "code",
   "execution_count": null,
   "id": "7132cc10",
   "metadata": {},
   "outputs": [],
   "source": [
    "\"\"\"\n",
    "Encontrar un patrón en una cadena de texto y obtener los \n",
    "4 caracteres siguientes a la coincidencia.\n",
    "\"\"\"\n",
    "\n",
    "text = \"\"\" El ticket de compra es TCKT-1234-5678-9012-3456 \n",
    "por favor guarde este ticket para futuras referencias.\"\"\"\n",
    "\n",
    "print(re.search(r'TCKT-\\d{4}', text).group())\n",
    "print(re.search(r'TCKT-(\\d{4})-\\d{4}', text).group(1))\n",
    "print(re.search(r'TCKT-(\\d{4})-(\\d{4})', text).group(2))"
   ]
  }
 ],
 "metadata": {
  "kernelspec": {
   "display_name": ".venv",
   "language": "python",
   "name": "python3"
  },
  "language_info": {
   "codemirror_mode": {
    "name": "ipython",
    "version": 3
   },
   "file_extension": ".py",
   "mimetype": "text/x-python",
   "name": "python",
   "nbconvert_exporter": "python",
   "pygments_lexer": "ipython3",
   "version": "3.13.3"
  }
 },
 "nbformat": 4,
 "nbformat_minor": 5
}
