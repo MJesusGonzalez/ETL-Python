{
 "cells": [
  {
   "cell_type": "markdown",
   "id": "58cc1a5f",
   "metadata": {},
   "source": [
    "## Librerias"
   ]
  },
  {
   "cell_type": "code",
   "execution_count": 58,
   "id": "c1ef9ba9",
   "metadata": {},
   "outputs": [],
   "source": [
    "import pandas as pd"
   ]
  },
  {
   "cell_type": "markdown",
   "id": "36ba3df1",
   "metadata": {},
   "source": [
    "## Funciones"
   ]
  },
  {
   "cell_type": "code",
   "execution_count": 59,
   "id": "56d6c03c",
   "metadata": {},
   "outputs": [],
   "source": [
    "def limpiar_datos_numericos(df, columna):\n",
    "    \"\"\"\n",
    "    Limpia los datos numéricos de un DataFrame, convioerte a numericos y reemplaza\n",
    "    los NaN con la media.\n",
    "\n",
    "    :param df: DataFrame de pandas que contiene los datos.\n",
    "    :param columnaas: Lista de nombres de columnaas a limpiar.\n",
    "    :return: DataFrame limpio.\n",
    "    \"\"\"\n",
    "    if df[columna].dtype == 'float' or df[columna].dtype == 'int':\n",
    "        df[columna] = pd.to_numeric(df[columna], errors='coerce')\n",
    "        df[columna] = df[columna].fillna(df[columna].median())\n",
    "    return df"
   ]
  },
  {
   "cell_type": "code",
   "execution_count": 60,
   "id": "fce9cd53",
   "metadata": {},
   "outputs": [],
   "source": [
    "def limpiar_datos_texto(df, columna):\n",
    "    \"\"\"\n",
    "    Limpia los datos de texto de un DataFrame, reemplazando valores infinitos por \n",
    "    una cadena vacía, reemplaza NaN por una cadena vacía, convierte todo a minuscula \n",
    "    y elimina espacios en blanco al inicio y al final,\n",
    "\n",
    "    :param df: DataFrame de pandas que contiene los datos.\n",
    "    :param columnaas: Lista de nombres de columnaas a limpiar.\n",
    "    :return: DataFrame limpio.\n",
    "    \"\"\"\n",
    "    if df[columna].dtype == 'object':\n",
    "        df[columna] = df[columna].astype(str).replace('inf', '', regex=True)\n",
    "        df[columna] = df[columna].fillna('')\n",
    "        df[columna] = df[columna].astype(str).str.strip()\n",
    "    return df"
   ]
  },
  {
   "cell_type": "markdown",
   "id": "58f87978",
   "metadata": {},
   "source": [
    "## Decorator"
   ]
  },
  {
   "cell_type": "code",
   "execution_count": 61,
   "id": "5cdb164c",
   "metadata": {},
   "outputs": [],
   "source": [
    "def encadenar_funciones(*funcs):\n",
    "    \"\"\"\n",
    "    Encadena múltiples funciones de limpieza.\n",
    "\n",
    "    Args:\n",
    "        *funcs: Funciones de limpieza a encadenar.\n",
    "\n",
    "    Returns:\n",
    "        Función decoradora que aplica las funciones encadenadas.\n",
    "    \"\"\"\n",
    "    def decorador(func):\n",
    "        def wrapper(df, columna):\n",
    "            for f in funcs:\n",
    "                df = f(df, columna)\n",
    "            return func(df, columna)\n",
    "        return wrapper\n",
    "    return decorador"
   ]
  },
  {
   "cell_type": "code",
   "execution_count": 62,
   "id": "fe706c28",
   "metadata": {},
   "outputs": [],
   "source": [
    "@encadenar_funciones(limpiar_datos_numericos, limpiar_datos_texto)\n",
    "def procesar_columna(df, columna):\n",
    "    \"\"\"\n",
    "    Procesa una columna aplicando las funciones de limpieza encadenadas.\n",
    "\n",
    "    Args:\n",
    "        df: DataFrame de Pandas.\n",
    "        columna: Nombre de la columna a procesar.\n",
    "\n",
    "    Returns:\n",
    "        DataFrame con la columna procesada.\n",
    "    \"\"\"\n",
    "    # Puedes añadir más procesamiento aquí si es necesario\n",
    "    return df"
   ]
  },
  {
   "cell_type": "markdown",
   "id": "0e3e8530",
   "metadata": {},
   "source": [
    "## Transformacion"
   ]
  },
  {
   "cell_type": "code",
   "execution_count": 63,
   "id": "1a8d642d",
   "metadata": {},
   "outputs": [
    {
     "data": {
      "text/html": [
       "<div>\n",
       "<style scoped>\n",
       "    .dataframe tbody tr th:only-of-type {\n",
       "        vertical-align: middle;\n",
       "    }\n",
       "\n",
       "    .dataframe tbody tr th {\n",
       "        vertical-align: top;\n",
       "    }\n",
       "\n",
       "    .dataframe thead th {\n",
       "        text-align: right;\n",
       "    }\n",
       "</style>\n",
       "<table border=\"1\" class=\"dataframe\">\n",
       "  <thead>\n",
       "    <tr style=\"text-align: right;\">\n",
       "      <th></th>\n",
       "      <th>numeros</th>\n",
       "      <th>texto</th>\n",
       "    </tr>\n",
       "  </thead>\n",
       "  <tbody>\n",
       "    <tr>\n",
       "      <th>0</th>\n",
       "      <td>1.0</td>\n",
       "      <td>Hola</td>\n",
       "    </tr>\n",
       "    <tr>\n",
       "      <th>1</th>\n",
       "      <td>2.0</td>\n",
       "      <td>Mundo</td>\n",
       "    </tr>\n",
       "    <tr>\n",
       "      <th>2</th>\n",
       "      <td>3.0</td>\n",
       "      <td>None</td>\n",
       "    </tr>\n",
       "    <tr>\n",
       "      <th>3</th>\n",
       "      <td>NaN</td>\n",
       "      <td>Python</td>\n",
       "    </tr>\n",
       "    <tr>\n",
       "      <th>4</th>\n",
       "      <td>5.0</td>\n",
       "      <td></td>\n",
       "    </tr>\n",
       "    <tr>\n",
       "      <th>5</th>\n",
       "      <td>1.2</td>\n",
       "      <td>inf</td>\n",
       "    </tr>\n",
       "  </tbody>\n",
       "</table>\n",
       "</div>"
      ],
      "text/plain": [
       "   numeros          texto\n",
       "0      1.0           Hola\n",
       "1      2.0        Mundo  \n",
       "2      3.0           None\n",
       "3      NaN         Python\n",
       "4      5.0               \n",
       "5      1.2            inf"
      ]
     },
     "execution_count": 63,
     "metadata": {},
     "output_type": "execute_result"
    }
   ],
   "source": [
    "data = {\n",
    "    'numeros': [1, 2, 3, None, 5, float(1.2)],\n",
    "    'texto': ['  Hola', '      Mundo  ', None, 'Python', ' ', 'inf']\n",
    "}\n",
    "df = pd.DataFrame(data)\n",
    "df"
   ]
  },
  {
   "cell_type": "code",
   "execution_count": 64,
   "id": "354704c0",
   "metadata": {},
   "outputs": [
    {
     "name": "stdout",
     "output_type": "stream",
     "text": [
      "   numeros          texto\n",
      "0      1.0           Hola\n",
      "1      2.0        Mundo  \n",
      "2      3.0           None\n",
      "3      2.0         Python\n",
      "4      5.0               \n",
      "5      1.2            inf\n"
     ]
    }
   ],
   "source": [
    "df2 = procesar_columna(df.copy(), 'numeros')\n",
    "print(df2)"
   ]
  },
  {
   "cell_type": "code",
   "execution_count": 65,
   "id": "80dc2ea9",
   "metadata": {},
   "outputs": [
    {
     "name": "stdout",
     "output_type": "stream",
     "text": [
      "   numeros   texto\n",
      "0      1.0    Hola\n",
      "1      2.0   Mundo\n",
      "2      3.0    None\n",
      "3      2.0  Python\n",
      "4      5.0        \n",
      "5      1.2        \n"
     ]
    }
   ],
   "source": [
    "procesar_columna(df2, 'texto')\n",
    "print(df2)"
   ]
  }
 ],
 "metadata": {
  "kernelspec": {
   "display_name": ".venv",
   "language": "python",
   "name": "python3"
  },
  "language_info": {
   "codemirror_mode": {
    "name": "ipython",
    "version": 3
   },
   "file_extension": ".py",
   "mimetype": "text/x-python",
   "name": "python",
   "nbconvert_exporter": "python",
   "pygments_lexer": "ipython3",
   "version": "3.13.3"
  }
 },
 "nbformat": 4,
 "nbformat_minor": 5
}
