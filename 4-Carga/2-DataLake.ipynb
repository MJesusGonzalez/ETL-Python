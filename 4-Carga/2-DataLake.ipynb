{
 "cells": [
  {
   "cell_type": "markdown",
   "id": "1547b353",
   "metadata": {},
   "source": [
    "## Librerias"
   ]
  },
  {
   "cell_type": "code",
   "execution_count": null,
   "id": "1058afb1",
   "metadata": {},
   "outputs": [],
   "source": [
    "import polars as pl\n",
    "import os\n",
    "import gcsfs\n",
    "import os"
   ]
  },
  {
   "cell_type": "markdown",
   "id": "765d2fe8",
   "metadata": {},
   "source": [
    "## Polars"
   ]
  },
  {
   "cell_type": "code",
   "execution_count": null,
   "id": "fb8870ba",
   "metadata": {},
   "outputs": [],
   "source": [
    "path_data = os.path.join(os.getcwd(), 'data') \n",
    "\n",
    "df = pl.read_csv(path_data + '/marketing_data.csv')\n",
    "df = df.with_columns(pl.col(\"Dt_Customer\").str.strptime(pl.Date, \"%m/%d/%y\"))\n",
    "df = df.rename({col: col.replace(' ', '').replace('_', '') for col in df.columns})\n",
    "df = df.with_columns(\n",
    "    pl.col(\"Income\")\n",
    "    .str.replace_all(r'[$,]', '')\n",
    "    .str.replace_all(' ', '')\n",
    "    .cast(pl.Float64)\n",
    "    .fill_null(0)\n",
    ")\n",
    "df.head()"
   ]
  },
  {
   "cell_type": "markdown",
   "id": "bd861e74",
   "metadata": {},
   "source": [
    "## Google Cloud Storage"
   ]
  },
  {
   "cell_type": "code",
   "execution_count": null,
   "id": "23024bfa",
   "metadata": {},
   "outputs": [],
   "source": [
    "credentials = 'secretos/credentials.json'\n",
    "os.environ['GOOGLE_APPLICATION_CREDENTIALS'] = credentials\n",
    "\n",
    "fs = gcsfs.GCSFileSystem()\n",
    "destination = \"gs://data-hist-cf/dlt/deltamkt.parquet\"\n",
    "with fs.open(destination, 'wb') as f:\n",
    "    df.write_parquet(f)"
   ]
  }
 ],
 "metadata": {
  "language_info": {
   "name": "python"
  }
 },
 "nbformat": 4,
 "nbformat_minor": 5
}
